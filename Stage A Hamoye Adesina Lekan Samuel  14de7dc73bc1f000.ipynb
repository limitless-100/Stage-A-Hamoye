{
 "cells": [
  {
   "cell_type": "code",
   "execution_count": 1,
   "id": "e7784b02",
   "metadata": {},
   "outputs": [],
   "source": [
    "import pandas as pd"
   ]
  },
  {
   "cell_type": "code",
   "execution_count": 9,
   "id": "a4c602d9",
   "metadata": {},
   "outputs": [
    {
     "data": {
      "text/html": [
       "<div>\n",
       "<style scoped>\n",
       "    .dataframe tbody tr th:only-of-type {\n",
       "        vertical-align: middle;\n",
       "    }\n",
       "\n",
       "    .dataframe tbody tr th {\n",
       "        vertical-align: top;\n",
       "    }\n",
       "\n",
       "    .dataframe thead th {\n",
       "        text-align: right;\n",
       "    }\n",
       "</style>\n",
       "<table border=\"1\" class=\"dataframe\">\n",
       "  <thead>\n",
       "    <tr style=\"text-align: right;\">\n",
       "      <th></th>\n",
       "      <th>Area Code</th>\n",
       "      <th>Area</th>\n",
       "      <th>Item Code</th>\n",
       "      <th>Item</th>\n",
       "      <th>Element Code</th>\n",
       "      <th>Element</th>\n",
       "      <th>Unit</th>\n",
       "      <th>Y2014</th>\n",
       "      <th>Y2015</th>\n",
       "      <th>Y2016</th>\n",
       "      <th>Y2017</th>\n",
       "      <th>Y2018</th>\n",
       "    </tr>\n",
       "  </thead>\n",
       "  <tbody>\n",
       "    <tr>\n",
       "      <th>0</th>\n",
       "      <td>4</td>\n",
       "      <td>Algeria</td>\n",
       "      <td>2501</td>\n",
       "      <td>Population</td>\n",
       "      <td>511</td>\n",
       "      <td>Total Population - Both sexes</td>\n",
       "      <td>1000 persons</td>\n",
       "      <td>38924.00</td>\n",
       "      <td>39728.00</td>\n",
       "      <td>40551.00</td>\n",
       "      <td>41389.00</td>\n",
       "      <td>42228.00</td>\n",
       "    </tr>\n",
       "    <tr>\n",
       "      <th>1</th>\n",
       "      <td>4</td>\n",
       "      <td>Algeria</td>\n",
       "      <td>2501</td>\n",
       "      <td>Population</td>\n",
       "      <td>5301</td>\n",
       "      <td>Domestic supply quantity</td>\n",
       "      <td>1000 tonnes</td>\n",
       "      <td>0.00</td>\n",
       "      <td>0.00</td>\n",
       "      <td>0.00</td>\n",
       "      <td>0.00</td>\n",
       "      <td>0.00</td>\n",
       "    </tr>\n",
       "    <tr>\n",
       "      <th>2</th>\n",
       "      <td>4</td>\n",
       "      <td>Algeria</td>\n",
       "      <td>2901</td>\n",
       "      <td>Grand Total</td>\n",
       "      <td>664</td>\n",
       "      <td>Food supply (kcal/capita/day)</td>\n",
       "      <td>kcal/capita/day</td>\n",
       "      <td>3377.00</td>\n",
       "      <td>3379.00</td>\n",
       "      <td>3372.00</td>\n",
       "      <td>3341.00</td>\n",
       "      <td>3322.00</td>\n",
       "    </tr>\n",
       "    <tr>\n",
       "      <th>3</th>\n",
       "      <td>4</td>\n",
       "      <td>Algeria</td>\n",
       "      <td>2901</td>\n",
       "      <td>Grand Total</td>\n",
       "      <td>674</td>\n",
       "      <td>Protein supply quantity (g/capita/day)</td>\n",
       "      <td>g/capita/day</td>\n",
       "      <td>94.90</td>\n",
       "      <td>94.35</td>\n",
       "      <td>94.72</td>\n",
       "      <td>92.82</td>\n",
       "      <td>91.83</td>\n",
       "    </tr>\n",
       "    <tr>\n",
       "      <th>4</th>\n",
       "      <td>4</td>\n",
       "      <td>Algeria</td>\n",
       "      <td>2901</td>\n",
       "      <td>Grand Total</td>\n",
       "      <td>684</td>\n",
       "      <td>Fat supply quantity (g/capita/day)</td>\n",
       "      <td>g/capita/day</td>\n",
       "      <td>80.06</td>\n",
       "      <td>79.36</td>\n",
       "      <td>77.40</td>\n",
       "      <td>80.19</td>\n",
       "      <td>77.28</td>\n",
       "    </tr>\n",
       "  </tbody>\n",
       "</table>\n",
       "</div>"
      ],
      "text/plain": [
       "   Area Code     Area  Item Code         Item  Element Code  \\\n",
       "0          4  Algeria       2501   Population           511   \n",
       "1          4  Algeria       2501   Population          5301   \n",
       "2          4  Algeria       2901  Grand Total           664   \n",
       "3          4  Algeria       2901  Grand Total           674   \n",
       "4          4  Algeria       2901  Grand Total           684   \n",
       "\n",
       "                                  Element             Unit     Y2014  \\\n",
       "0           Total Population - Both sexes     1000 persons  38924.00   \n",
       "1                Domestic supply quantity      1000 tonnes      0.00   \n",
       "2           Food supply (kcal/capita/day)  kcal/capita/day   3377.00   \n",
       "3  Protein supply quantity (g/capita/day)     g/capita/day     94.90   \n",
       "4      Fat supply quantity (g/capita/day)     g/capita/day     80.06   \n",
       "\n",
       "      Y2015     Y2016     Y2017     Y2018  \n",
       "0  39728.00  40551.00  41389.00  42228.00  \n",
       "1      0.00      0.00      0.00      0.00  \n",
       "2   3379.00   3372.00   3341.00   3322.00  \n",
       "3     94.35     94.72     92.82     91.83  \n",
       "4     79.36     77.40     80.19     77.28  "
      ]
     },
     "execution_count": 9,
     "metadata": {},
     "output_type": "execute_result"
    }
   ],
   "source": [
    "spreadsheet = pd.read_csv('C:/Users/SER/Desktop/FoodBalanceSheets_E_Africa_NOFLAG.csv' ,encoding = 'latin-1')\n",
    "spreadsheet.head()"
   ]
  },
  {
   "cell_type": "markdown",
   "id": "938f68e3",
   "metadata": {},
   "source": [
    "# Question 11\n",
    "The total sum of animal fat produced in 2014 and 2017 are respectively 209460.54 and 269617.53"
   ]
  },
  {
   "cell_type": "code",
   "execution_count": 22,
   "id": "6ef1ff27",
   "metadata": {},
   "outputs": [
    {
     "name": "stdout",
     "output_type": "stream",
     "text": [
      "                     Area Code  Item Code  Element Code      Y2014      Y2015  \\\n",
      "Item                                                                            \n",
      "Alcohol, Non-Food        38447     752497       1515090    2403.00    2180.00   \n",
      "Alcoholic Beverages      75016    1649136       2171381  102410.11   98783.72   \n",
      "Animal Products          18060     397035         90990   11935.65   11811.73   \n",
      "Animal fats              85279    1882494       2567303  209460.54  200675.72   \n",
      "Apples and products      69280    1352989       1920418    9499.23   10559.15   \n",
      "...                        ...        ...           ...        ...        ...   \n",
      "Vegetables, Other        77779    1518715       2275409  155038.96  158104.08   \n",
      "Vegetal Products         18060     391905         90990  107145.19  107064.17   \n",
      "Wheat and products       87073    1639683       2654934  232670.13  234710.51   \n",
      "Wine                     66206    1319535       1818328    4497.36    4251.81   \n",
      "Yams                     50798     970905       1525745  200396.96  203151.78   \n",
      "\n",
      "                         Y2016      Y2017      Y2018  \n",
      "Item                                                  \n",
      "Alcohol, Non-Food      2223.00    2348.00    2293.00  \n",
      "Alcoholic Beverages   96958.75   95581.06   97847.27  \n",
      "Animal Products       11661.69   11547.65   11578.61  \n",
      "Animal fats          183314.22  269617.53  269648.27  \n",
      "Apples and products    9853.26   10198.90    9640.51  \n",
      "...                        ...        ...        ...  \n",
      "Vegetables, Other    156218.90  157752.59  163987.21  \n",
      "Vegetal Products     106792.72  107655.20  107775.39  \n",
      "Wheat and products   239377.07  240047.62  242645.19  \n",
      "Wine                   3872.09    4178.02    4039.32  \n",
      "Yams                 220626.20  229174.59  221272.09  \n",
      "\n",
      "[119 rows x 8 columns]\n"
     ]
    }
   ],
   "source": [
    "spreadsheet2 = spreadsheet.groupby('Item').sum() \n",
    "print(spreadsheet2)"
   ]
  },
  {
   "cell_type": "markdown",
   "id": "6de2a40e",
   "metadata": {},
   "source": [
    "# Question 12\n",
    "#For Y2015,\n",
    "#The mean is 135.236 and standard deviation is 1603.404"
   ]
  },
  {
   "cell_type": "code",
   "execution_count": 20,
   "id": "7b6037e8",
   "metadata": {},
   "outputs": [
    {
     "name": "stdout",
     "output_type": "stream",
     "text": [
      "          Area Code     Item Code  Element Code          Y2014          Y2015  \\\n",
      "count  60943.000000  60943.000000  60943.000000   59354.000000   59395.000000   \n",
      "mean     134.265576   2687.176706   3814.856456     134.196282     135.235966   \n",
      "std       72.605709    146.055739   2212.007033    1567.663696    1603.403984   \n",
      "min        4.000000   2501.000000    511.000000   -1796.000000   -3161.000000   \n",
      "25%       74.000000   2562.000000    684.000000       0.000000       0.000000   \n",
      "50%      136.000000   2630.000000   5142.000000       0.090000       0.080000   \n",
      "75%      195.000000   2775.000000   5511.000000       8.340000       8.460000   \n",
      "max      276.000000   2961.000000   5911.000000  176405.000000  181137.000000   \n",
      "\n",
      "               Y2016          Y2017          Y2018  \n",
      "count   59408.000000   59437.000000   59507.000000  \n",
      "mean      136.555222     140.917765     143.758381  \n",
      "std      1640.007194    1671.862359    1710.782658  \n",
      "min     -3225.000000   -1582.000000   -3396.000000  \n",
      "25%         0.000000       0.000000       0.000000  \n",
      "50%         0.080000       0.100000       0.070000  \n",
      "75%         8.430000       9.000000       9.000000  \n",
      "max    185960.000000  190873.000000  195875.000000  \n"
     ]
    }
   ],
   "source": [
    "spreadsheet9 = spreadsheet.describe()\n",
    "print(spreadsheet9)"
   ]
  },
  {
   "cell_type": "markdown",
   "id": "27232404",
   "metadata": {},
   "source": [
    "# Question 13\n",
    "The total number and percentage of missing data in 2016 are 1535 and 2.58% respectively."
   ]
  },
  {
   "cell_type": "code",
   "execution_count": 19,
   "id": "d1888e2e",
   "metadata": {},
   "outputs": [
    {
     "name": "stdout",
     "output_type": "stream",
     "text": [
      "Area Code          0\n",
      "Area               0\n",
      "Item Code          0\n",
      "Item               0\n",
      "Element Code       0\n",
      "Element            0\n",
      "Unit               0\n",
      "Y2014           1589\n",
      "Y2015           1548\n",
      "Y2016           1535\n",
      "Y2017           1506\n",
      "Y2018           1436\n",
      "dtype: int64\n"
     ]
    }
   ],
   "source": [
    "print(spreadsheet.isnull().sum())"
   ]
  },
  {
   "cell_type": "code",
   "execution_count": 24,
   "id": "9fc635a7",
   "metadata": {},
   "outputs": [
    {
     "name": "stdout",
     "output_type": "stream",
     "text": [
      "2.583827093994075\n"
     ]
    }
   ],
   "source": [
    "T = 1535             #T equals to the total number of missing data in 2016\n",
    "R = 59408            # From the analysis in question 12, the total count in 2016, represented by R, is 59408\n",
    "Z = (T/R)*100        # Z represents the percentage of the missing data in 2016\n",
    "print(Z)"
   ]
  },
  {
   "cell_type": "markdown",
   "id": "171a40d0",
   "metadata": {},
   "source": [
    "# Question 14\n",
    "Year 2014 has the highest correlation with Element Code"
   ]
  },
  {
   "cell_type": "code",
   "execution_count": 29,
   "id": "54a2a652",
   "metadata": {},
   "outputs": [
    {
     "name": "stdout",
     "output_type": "stream",
     "text": [
      "The correlation between Element Code and Y2014 is  0.024456819495221795\n",
      "The correlation between Element Code and Y2015 is  0.02388919930163992\n",
      "The correlation between Element Code and Y2016 is  0.023443997584961428\n",
      "The correlation between Element Code and Y2017 is  0.02425400776004572\n",
      "The correlation between Element Code and Y2018 is  0.02427857195351955\n"
     ]
    }
   ],
   "source": [
    "corr2014 = spreadsheet['Element Code'].corr(spreadsheet['Y2014'])\n",
    "print('The correlation between Element Code and Y2014 is ', corr2014)\n",
    "corr2015 = spreadsheet['Element Code'].corr(spreadsheet['Y2015'])\n",
    "print('The correlation between Element Code and Y2015 is ', corr2015)\n",
    "corr2016 = spreadsheet['Element Code'].corr(spreadsheet['Y2016'])\n",
    "print('The correlation between Element Code and Y2016 is ', corr2016)\n",
    "corr2017 = spreadsheet['Element Code'].corr(spreadsheet['Y2017'])\n",
    "print('The correlation between Element Code and Y2017 is ', corr2017)\n",
    "corr2018 = spreadsheet['Element Code'].corr(spreadsheet['Y2018'])\n",
    "print('The correlation between Element Code and Y2018 is ', corr2018)"
   ]
  },
  {
   "cell_type": "markdown",
   "id": "5f4f1eb3",
   "metadata": {},
   "source": [
    "# Question 15\n",
    "2017 has the highest sum of Import Quantity"
   ]
  },
  {
   "cell_type": "code",
   "execution_count": 30,
   "id": "a68785ba",
   "metadata": {},
   "outputs": [
    {
     "name": "stdout",
     "output_type": "stream",
     "text": [
      "                                        Area Code  Item Code  Element Code  \\\n",
      "Element                                                                      \n",
      "Domestic supply quantity                   708993   14197445      28068795   \n",
      "Export Quantity                            599910   11840553      26026133   \n",
      "Fat supply quantity (g/capita/day)         675050   13535000       3435732   \n",
      "Feed                                       176272    3538507       7282199   \n",
      "Food                                       663295   13285035      25406622   \n",
      "Food supply (kcal/capita/day)              674057   13511060       3329296   \n",
      "Food supply quantity (kg/capita/yr)        658446   13185401       3163725   \n",
      "Import Quantity                            688174   13795966      28834929   \n",
      "Losses                                     274353    5424803      10292107   \n",
      "Other uses (non-food)                      235554    4729749       8926728   \n",
      "Processing                                 271940    5350416      10313310   \n",
      "Production                                 526751   10450053      21388191   \n",
      "Protein supply quantity (g/capita/day)     675050   13535000       3385502   \n",
      "Residuals                                  623271   12421089      24066350   \n",
      "Seed                                       103537    2035933       4211574   \n",
      "Stock Variation                            571566   11329527      21464704   \n",
      "Total Population - Both sexes                6020     112545         22995   \n",
      "Tourist consumption                         50308    1486528       2869905   \n",
      "\n",
      "                                             Y2014       Y2015       Y2016  \\\n",
      "Element                                                                      \n",
      "Domestic supply quantity                1996716.35  2021493.55  2044842.70   \n",
      "Export Quantity                          150020.64   157614.47   151920.46   \n",
      "Fat supply quantity (g/capita/day)        10225.56    10235.74    10102.77   \n",
      "Feed                                     216927.89   225050.22   228958.65   \n",
      "Food                                    1212332.49  1232361.10  1247022.17   \n",
      "Food supply (kcal/capita/day)            454257.00   453383.00   451810.00   \n",
      "Food supply quantity (kg/capita/yr)       49650.63    49345.13    48985.28   \n",
      "Import Quantity                          274144.48   267018.46   286582.78   \n",
      "Losses                                   153223.00   155439.00   157787.00   \n",
      "Other uses (non-food)                     78718.13    66254.41    69563.68   \n",
      "Processing                               282923.00   287929.00   280631.00   \n",
      "Production                              1931287.75  1947019.39  1943537.15   \n",
      "Protein supply quantity (g/capita/day)    11836.46    11833.95    11779.69   \n",
      "Residuals                                 30149.00    30045.00    37224.00   \n",
      "Seed                                      21922.92    23976.82    23389.20   \n",
      "Stock Variation                           58749.83    34910.99    33140.12   \n",
      "Total Population - Both sexes           1031585.00  1058081.00  1085107.00   \n",
      "Tourist consumption                         416.00      349.00       89.00   \n",
      "\n",
      "                                             Y2017       Y2018  \n",
      "Element                                                         \n",
      "Domestic supply quantity                2088198.10  2161192.10  \n",
      "Export Quantity                          182338.80   181594.80  \n",
      "Fat supply quantity (g/capita/day)        10253.84    10258.69  \n",
      "Feed                                     223705.68   233489.68  \n",
      "Food                                    1258888.28  1303841.28  \n",
      "Food supply (kcal/capita/day)            454681.00   455261.00  \n",
      "Food supply quantity (kg/capita/yr)       48690.04    49056.85  \n",
      "Import Quantity                          294559.09   287997.09  \n",
      "Losses                                   160614.00   163902.00  \n",
      "Other uses (non-food)                     91645.97    91300.97  \n",
      "Processing                               292836.00   308429.00  \n",
      "Production                              2030056.89  2075072.89  \n",
      "Protein supply quantity (g/capita/day)    11842.45    11833.56  \n",
      "Residuals                                 35500.00    34864.00  \n",
      "Seed                                      24870.14    25263.14  \n",
      "Stock Variation                           54316.91    20577.91  \n",
      "Total Population - Both sexes           1112641.00  1140605.00  \n",
      "Tourist consumption                          91.00       90.00  \n"
     ]
    }
   ],
   "source": [
    "spreadsheet4 = spreadsheet.groupby('Element').sum()\n",
    "print(spreadsheet4)"
   ]
  },
  {
   "cell_type": "markdown",
   "id": "385e4d66",
   "metadata": {},
   "source": [
    "# Question 17\n",
    "From the analysis performed in Question 15, Domestic supply quantity has the highest sum in 2018"
   ]
  },
  {
   "cell_type": "code",
   "execution_count": 46,
   "id": "af100f06",
   "metadata": {},
   "outputs": [
    {
     "name": "stdout",
     "output_type": "stream",
     "text": [
      "Element\n",
      "Domestic supply quantity                  117038.00\n",
      "Export Quantity                            34641.00\n",
      "Fat supply quantity (g/capita/day)            94.94\n",
      "Feed                                       31567.00\n",
      "Food                                       54077.00\n",
      "Food supply (kcal/capita/day)               3450.00\n",
      "Food supply quantity (kg/capita/yr)          443.56\n",
      "Import Quantity                            18036.00\n",
      "Losses                                     10355.00\n",
      "Other uses (non-food)                      17221.00\n",
      "Processing                                 22609.00\n",
      "Production                                118172.00\n",
      "Protein supply quantity (g/capita/day)       101.08\n",
      "Residuals                                  17323.00\n",
      "Seed                                        1474.00\n",
      "Stock Variation                             2226.00\n",
      "Total Population - Both sexes             195875.00\n",
      "Tourist consumption                            6.00\n",
      "Name: Y2018, dtype: float64\n"
     ]
    }
   ],
   "source": [
    "spreadsheet9 = spreadsheet.groupby(['Element'])['Y2018'].max()\n",
    "print(spreadsheet9)"
   ]
  },
  {
   "cell_type": "markdown",
   "id": "253a6d6d",
   "metadata": {},
   "source": [
    "# Question 18\n",
    "From the analysis performed in Question 15, Protein supply quantity (g/capital/day) has the 3rd lowest sum in 2018"
   ]
  },
  {
   "cell_type": "markdown",
   "id": "0f592a46",
   "metadata": {},
   "source": [
    "# Question 19\n"
   ]
  },
  {
   "cell_type": "code",
   "execution_count": 41,
   "id": "9adf641c",
   "metadata": {},
   "outputs": [
    {
     "ename": "KeyError",
     "evalue": "'Algeria'",
     "output_type": "error",
     "traceback": [
      "\u001b[1;31m---------------------------------------------------------------------------\u001b[0m",
      "\u001b[1;31mKeyError\u001b[0m                                  Traceback (most recent call last)",
      "\u001b[1;32m~\\AppData\\Local\\Temp/ipykernel_13552/400854412.py\u001b[0m in \u001b[0;36m<module>\u001b[1;34m\u001b[0m\n\u001b[1;32m----> 1\u001b[1;33m \u001b[0mspreadsheet9\u001b[0m \u001b[1;33m=\u001b[0m \u001b[0mspreadsheet\u001b[0m\u001b[1;33m.\u001b[0m\u001b[0mgroupby\u001b[0m\u001b[1;33m(\u001b[0m\u001b[1;33m[\u001b[0m\u001b[1;34m'Algeria'\u001b[0m\u001b[1;33m]\u001b[0m\u001b[1;33m)\u001b[0m\u001b[1;33m.\u001b[0m\u001b[0msum\u001b[0m\u001b[1;33m(\u001b[0m\u001b[1;33m)\u001b[0m\u001b[1;33m\u001b[0m\u001b[1;33m\u001b[0m\u001b[0m\n\u001b[0m\u001b[0;32m      2\u001b[0m \u001b[0mprint\u001b[0m\u001b[1;33m(\u001b[0m\u001b[0mspreadsheet9\u001b[0m\u001b[1;33m)\u001b[0m\u001b[1;33m\u001b[0m\u001b[1;33m\u001b[0m\u001b[0m\n",
      "\u001b[1;32m~\\anaconda3\\anaconda4\\lib\\site-packages\\pandas\\core\\frame.py\u001b[0m in \u001b[0;36mgroupby\u001b[1;34m(self, by, axis, level, as_index, sort, group_keys, squeeze, observed, dropna)\u001b[0m\n\u001b[0;32m   7629\u001b[0m         \u001b[1;31m# error: Argument \"squeeze\" to \"DataFrameGroupBy\" has incompatible type\u001b[0m\u001b[1;33m\u001b[0m\u001b[1;33m\u001b[0m\u001b[0m\n\u001b[0;32m   7630\u001b[0m         \u001b[1;31m# \"Union[bool, NoDefault]\"; expected \"bool\"\u001b[0m\u001b[1;33m\u001b[0m\u001b[1;33m\u001b[0m\u001b[0m\n\u001b[1;32m-> 7631\u001b[1;33m         return DataFrameGroupBy(\n\u001b[0m\u001b[0;32m   7632\u001b[0m             \u001b[0mobj\u001b[0m\u001b[1;33m=\u001b[0m\u001b[0mself\u001b[0m\u001b[1;33m,\u001b[0m\u001b[1;33m\u001b[0m\u001b[1;33m\u001b[0m\u001b[0m\n\u001b[0;32m   7633\u001b[0m             \u001b[0mkeys\u001b[0m\u001b[1;33m=\u001b[0m\u001b[0mby\u001b[0m\u001b[1;33m,\u001b[0m\u001b[1;33m\u001b[0m\u001b[1;33m\u001b[0m\u001b[0m\n",
      "\u001b[1;32m~\\anaconda3\\anaconda4\\lib\\site-packages\\pandas\\core\\groupby\\groupby.py\u001b[0m in \u001b[0;36m__init__\u001b[1;34m(self, obj, keys, axis, level, grouper, exclusions, selection, as_index, sort, group_keys, squeeze, observed, mutated, dropna)\u001b[0m\n\u001b[0;32m    887\u001b[0m             \u001b[1;32mfrom\u001b[0m \u001b[0mpandas\u001b[0m\u001b[1;33m.\u001b[0m\u001b[0mcore\u001b[0m\u001b[1;33m.\u001b[0m\u001b[0mgroupby\u001b[0m\u001b[1;33m.\u001b[0m\u001b[0mgrouper\u001b[0m \u001b[1;32mimport\u001b[0m \u001b[0mget_grouper\u001b[0m\u001b[1;33m\u001b[0m\u001b[1;33m\u001b[0m\u001b[0m\n\u001b[0;32m    888\u001b[0m \u001b[1;33m\u001b[0m\u001b[0m\n\u001b[1;32m--> 889\u001b[1;33m             grouper, exclusions, obj = get_grouper(\n\u001b[0m\u001b[0;32m    890\u001b[0m                 \u001b[0mobj\u001b[0m\u001b[1;33m,\u001b[0m\u001b[1;33m\u001b[0m\u001b[1;33m\u001b[0m\u001b[0m\n\u001b[0;32m    891\u001b[0m                 \u001b[0mkeys\u001b[0m\u001b[1;33m,\u001b[0m\u001b[1;33m\u001b[0m\u001b[1;33m\u001b[0m\u001b[0m\n",
      "\u001b[1;32m~\\anaconda3\\anaconda4\\lib\\site-packages\\pandas\\core\\groupby\\grouper.py\u001b[0m in \u001b[0;36mget_grouper\u001b[1;34m(obj, key, axis, level, sort, observed, mutated, validate, dropna)\u001b[0m\n\u001b[0;32m    860\u001b[0m                 \u001b[0min_axis\u001b[0m\u001b[1;33m,\u001b[0m \u001b[0mlevel\u001b[0m\u001b[1;33m,\u001b[0m \u001b[0mgpr\u001b[0m \u001b[1;33m=\u001b[0m \u001b[1;32mFalse\u001b[0m\u001b[1;33m,\u001b[0m \u001b[0mgpr\u001b[0m\u001b[1;33m,\u001b[0m \u001b[1;32mNone\u001b[0m\u001b[1;33m\u001b[0m\u001b[1;33m\u001b[0m\u001b[0m\n\u001b[0;32m    861\u001b[0m             \u001b[1;32melse\u001b[0m\u001b[1;33m:\u001b[0m\u001b[1;33m\u001b[0m\u001b[1;33m\u001b[0m\u001b[0m\n\u001b[1;32m--> 862\u001b[1;33m                 \u001b[1;32mraise\u001b[0m \u001b[0mKeyError\u001b[0m\u001b[1;33m(\u001b[0m\u001b[0mgpr\u001b[0m\u001b[1;33m)\u001b[0m\u001b[1;33m\u001b[0m\u001b[1;33m\u001b[0m\u001b[0m\n\u001b[0m\u001b[0;32m    863\u001b[0m         \u001b[1;32melif\u001b[0m \u001b[0misinstance\u001b[0m\u001b[1;33m(\u001b[0m\u001b[0mgpr\u001b[0m\u001b[1;33m,\u001b[0m \u001b[0mGrouper\u001b[0m\u001b[1;33m)\u001b[0m \u001b[1;32mand\u001b[0m \u001b[0mgpr\u001b[0m\u001b[1;33m.\u001b[0m\u001b[0mkey\u001b[0m \u001b[1;32mis\u001b[0m \u001b[1;32mnot\u001b[0m \u001b[1;32mNone\u001b[0m\u001b[1;33m:\u001b[0m\u001b[1;33m\u001b[0m\u001b[1;33m\u001b[0m\u001b[0m\n\u001b[0;32m    864\u001b[0m             \u001b[1;31m# Add key to exclusions\u001b[0m\u001b[1;33m\u001b[0m\u001b[1;33m\u001b[0m\u001b[0m\n",
      "\u001b[1;31mKeyError\u001b[0m: 'Algeria'"
     ]
    }
   ],
   "source": [
    "spreadsheet9 = spreadsheet.groupby(['Algeria']).aggsum()\n",
    "print(spreadsheet9)"
   ]
  },
  {
   "cell_type": "markdown",
   "id": "05e4f713",
   "metadata": {},
   "source": [
    "# Question 20\n",
    "The total number of unique countries in the dataset is 49"
   ]
  },
  {
   "cell_type": "code",
   "execution_count": 38,
   "id": "c64593dd",
   "metadata": {},
   "outputs": [
    {
     "name": "stdout",
     "output_type": "stream",
     "text": [
      "Area Code         49\n",
      "Area              49\n",
      "Item Code        122\n",
      "Item             119\n",
      "Element Code      18\n",
      "Element           18\n",
      "Unit               5\n",
      "Y2014           4493\n",
      "Y2015           4520\n",
      "Y2016           4520\n",
      "Y2017           4537\n",
      "Y2018           4591\n",
      "dtype: int64\n"
     ]
    }
   ],
   "source": [
    "print(spreadsheet.nunique())"
   ]
  },
  {
   "cell_type": "code",
   "execution_count": null,
   "id": "e712c648",
   "metadata": {},
   "outputs": [],
   "source": []
  }
 ],
 "metadata": {
  "kernelspec": {
   "display_name": "Python 3 (ipykernel)",
   "language": "python",
   "name": "python3"
  },
  "language_info": {
   "codemirror_mode": {
    "name": "ipython",
    "version": 3
   },
   "file_extension": ".py",
   "mimetype": "text/x-python",
   "name": "python",
   "nbconvert_exporter": "python",
   "pygments_lexer": "ipython3",
   "version": "3.9.7"
  }
 },
 "nbformat": 4,
 "nbformat_minor": 5
}
